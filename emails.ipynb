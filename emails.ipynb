{
 "cells": [
  {
   "cell_type": "code",
   "execution_count": 16,
   "metadata": {},
   "outputs": [],
   "source": [
    "import pandas as pd\n",
    "from sklearn.model_selection import train_test_split\n",
    "from sklearn.preprocessing import StandardScaler\n",
    "from sklearn.linear_model import LogisticRegression\n",
    "from sklearn.neighbors import KNeighborsClassifier\n",
    "from sklearn.tree import DecisionTreeClassifier\n",
    "from sklearn.naive_bayes import GaussianNB\n",
    "from sklearn.ensemble import RandomForestClassifier\n",
    "from sklearn.svm import SVC\n",
    "from sklearn.metrics import classification_report\n",
    "from sklearn.metrics import accuracy_score\n",
    "import matplotlib.pyplot as plt"
   ]
  },
  {
   "cell_type": "code",
   "execution_count": 2,
   "metadata": {},
   "outputs": [
    {
     "data": {
      "text/html": [
       "<div>\n",
       "<style scoped>\n",
       "    .dataframe tbody tr th:only-of-type {\n",
       "        vertical-align: middle;\n",
       "    }\n",
       "\n",
       "    .dataframe tbody tr th {\n",
       "        vertical-align: top;\n",
       "    }\n",
       "\n",
       "    .dataframe thead th {\n",
       "        text-align: right;\n",
       "    }\n",
       "</style>\n",
       "<table border=\"1\" class=\"dataframe\">\n",
       "  <thead>\n",
       "    <tr style=\"text-align: right;\">\n",
       "      <th></th>\n",
       "      <th>Email No.</th>\n",
       "      <th>the</th>\n",
       "      <th>to</th>\n",
       "      <th>ect</th>\n",
       "      <th>and</th>\n",
       "      <th>for</th>\n",
       "      <th>of</th>\n",
       "      <th>a</th>\n",
       "      <th>you</th>\n",
       "      <th>hou</th>\n",
       "      <th>...</th>\n",
       "      <th>connevey</th>\n",
       "      <th>jay</th>\n",
       "      <th>valued</th>\n",
       "      <th>lay</th>\n",
       "      <th>infrastructure</th>\n",
       "      <th>military</th>\n",
       "      <th>allowing</th>\n",
       "      <th>ff</th>\n",
       "      <th>dry</th>\n",
       "      <th>Prediction</th>\n",
       "    </tr>\n",
       "  </thead>\n",
       "  <tbody>\n",
       "    <tr>\n",
       "      <th>0</th>\n",
       "      <td>Email 1</td>\n",
       "      <td>0</td>\n",
       "      <td>0</td>\n",
       "      <td>1</td>\n",
       "      <td>0</td>\n",
       "      <td>0</td>\n",
       "      <td>0</td>\n",
       "      <td>2</td>\n",
       "      <td>0</td>\n",
       "      <td>0</td>\n",
       "      <td>...</td>\n",
       "      <td>0</td>\n",
       "      <td>0</td>\n",
       "      <td>0</td>\n",
       "      <td>0</td>\n",
       "      <td>0</td>\n",
       "      <td>0</td>\n",
       "      <td>0</td>\n",
       "      <td>0</td>\n",
       "      <td>0</td>\n",
       "      <td>0</td>\n",
       "    </tr>\n",
       "    <tr>\n",
       "      <th>1</th>\n",
       "      <td>Email 2</td>\n",
       "      <td>8</td>\n",
       "      <td>13</td>\n",
       "      <td>24</td>\n",
       "      <td>6</td>\n",
       "      <td>6</td>\n",
       "      <td>2</td>\n",
       "      <td>102</td>\n",
       "      <td>1</td>\n",
       "      <td>27</td>\n",
       "      <td>...</td>\n",
       "      <td>0</td>\n",
       "      <td>0</td>\n",
       "      <td>0</td>\n",
       "      <td>0</td>\n",
       "      <td>0</td>\n",
       "      <td>0</td>\n",
       "      <td>0</td>\n",
       "      <td>1</td>\n",
       "      <td>0</td>\n",
       "      <td>0</td>\n",
       "    </tr>\n",
       "    <tr>\n",
       "      <th>2</th>\n",
       "      <td>Email 3</td>\n",
       "      <td>0</td>\n",
       "      <td>0</td>\n",
       "      <td>1</td>\n",
       "      <td>0</td>\n",
       "      <td>0</td>\n",
       "      <td>0</td>\n",
       "      <td>8</td>\n",
       "      <td>0</td>\n",
       "      <td>0</td>\n",
       "      <td>...</td>\n",
       "      <td>0</td>\n",
       "      <td>0</td>\n",
       "      <td>0</td>\n",
       "      <td>0</td>\n",
       "      <td>0</td>\n",
       "      <td>0</td>\n",
       "      <td>0</td>\n",
       "      <td>0</td>\n",
       "      <td>0</td>\n",
       "      <td>0</td>\n",
       "    </tr>\n",
       "    <tr>\n",
       "      <th>3</th>\n",
       "      <td>Email 4</td>\n",
       "      <td>0</td>\n",
       "      <td>5</td>\n",
       "      <td>22</td>\n",
       "      <td>0</td>\n",
       "      <td>5</td>\n",
       "      <td>1</td>\n",
       "      <td>51</td>\n",
       "      <td>2</td>\n",
       "      <td>10</td>\n",
       "      <td>...</td>\n",
       "      <td>0</td>\n",
       "      <td>0</td>\n",
       "      <td>0</td>\n",
       "      <td>0</td>\n",
       "      <td>0</td>\n",
       "      <td>0</td>\n",
       "      <td>0</td>\n",
       "      <td>0</td>\n",
       "      <td>0</td>\n",
       "      <td>0</td>\n",
       "    </tr>\n",
       "    <tr>\n",
       "      <th>4</th>\n",
       "      <td>Email 5</td>\n",
       "      <td>7</td>\n",
       "      <td>6</td>\n",
       "      <td>17</td>\n",
       "      <td>1</td>\n",
       "      <td>5</td>\n",
       "      <td>2</td>\n",
       "      <td>57</td>\n",
       "      <td>0</td>\n",
       "      <td>9</td>\n",
       "      <td>...</td>\n",
       "      <td>0</td>\n",
       "      <td>0</td>\n",
       "      <td>0</td>\n",
       "      <td>0</td>\n",
       "      <td>0</td>\n",
       "      <td>0</td>\n",
       "      <td>0</td>\n",
       "      <td>1</td>\n",
       "      <td>0</td>\n",
       "      <td>0</td>\n",
       "    </tr>\n",
       "  </tbody>\n",
       "</table>\n",
       "<p>5 rows × 3002 columns</p>\n",
       "</div>"
      ],
      "text/plain": [
       "  Email No.  the  to  ect  and  for  of    a  you  hou  ...  connevey  jay   \n",
       "0   Email 1    0   0    1    0    0   0    2    0    0  ...         0    0  \\\n",
       "1   Email 2    8  13   24    6    6   2  102    1   27  ...         0    0   \n",
       "2   Email 3    0   0    1    0    0   0    8    0    0  ...         0    0   \n",
       "3   Email 4    0   5   22    0    5   1   51    2   10  ...         0    0   \n",
       "4   Email 5    7   6   17    1    5   2   57    0    9  ...         0    0   \n",
       "\n",
       "   valued  lay  infrastructure  military  allowing  ff  dry  Prediction  \n",
       "0       0    0               0         0         0   0    0           0  \n",
       "1       0    0               0         0         0   1    0           0  \n",
       "2       0    0               0         0         0   0    0           0  \n",
       "3       0    0               0         0         0   0    0           0  \n",
       "4       0    0               0         0         0   1    0           0  \n",
       "\n",
       "[5 rows x 3002 columns]"
      ]
     },
     "execution_count": 2,
     "metadata": {},
     "output_type": "execute_result"
    }
   ],
   "source": [
    "df=pd.read_csv(\"emails.csv\")\n",
    "df.head()"
   ]
  },
  {
   "cell_type": "code",
   "execution_count": 3,
   "metadata": {},
   "outputs": [],
   "source": [
    "x=df.iloc[:,1:3001]\n",
    "y=df.iloc[:,-1].values"
   ]
  },
  {
   "cell_type": "code",
   "execution_count": 7,
   "metadata": {},
   "outputs": [],
   "source": [
    "X_train, X_test, y_train, y_test = train_test_split(x, y, test_size=0.25, random_state=42)"
   ]
  },
  {
   "cell_type": "markdown",
   "metadata": {},
   "source": [
    "# Logistic Regression \n",
    "Logistic Regression is a statistical method used for analyzing a dataset in which there are one or more independent variables that determine an outcome. It's primarily used for binary classification problems, where the outcome can have only two possible values, often labeled as 0 and 1. "
   ]
  },
  {
   "cell_type": "code",
   "execution_count": 8,
   "metadata": {},
   "outputs": [
    {
     "name": "stdout",
     "output_type": "stream",
     "text": [
      "Logistic Regression Classification Report:\n",
      "              precision    recall  f1-score   support\n",
      "\n",
      "           0       0.98      0.98      0.98       913\n",
      "           1       0.95      0.95      0.95       380\n",
      "\n",
      "    accuracy                           0.97      1293\n",
      "   macro avg       0.96      0.96      0.96      1293\n",
      "weighted avg       0.97      0.97      0.97      1293\n",
      "\n"
     ]
    },
    {
     "name": "stderr",
     "output_type": "stream",
     "text": [
      "c:\\Users\\DELL\\AppData\\Local\\Programs\\Python\\Python39\\lib\\site-packages\\sklearn\\linear_model\\_logistic.py:763: ConvergenceWarning: lbfgs failed to converge (status=1):\n",
      "STOP: TOTAL NO. of ITERATIONS REACHED LIMIT.\n",
      "\n",
      "Increase the number of iterations (max_iter) or scale the data as shown in:\n",
      "    https://scikit-learn.org/stable/modules/preprocessing.html\n",
      "Please also refer to the documentation for alternative solver options:\n",
      "    https://scikit-learn.org/stable/modules/linear_model.html#logistic-regression\n",
      "  n_iter_i = _check_optimize_result(\n"
     ]
    }
   ],
   "source": [
    "# Create and train a Logistic Regression model\n",
    "lr_model = LogisticRegression()\n",
    "lr_model.fit(X_train, y_train)\n",
    "\n",
    "# Make predictions\n",
    "lr_pred = lr_model.predict(X_test)\n",
    "\n",
    "# Evaluate the Logistic Regression model\n",
    "print(\"Logistic Regression Classification Report:\")\n",
    "print(classification_report(y_test, lr_pred))"
   ]
  },
  {
   "cell_type": "markdown",
   "metadata": {},
   "source": [
    "# K-Nearest Neighbors\n",
    "K-Nearest Neighbors (K-NN) is a machine learning algorithm used for both classification and regression tasks.K-NN is a \"lazy learner\" algorithm, meaning it doesn't learn an explicit model during training. Instead, it memorizes the entire training dataset and makes predictions based on the proximity of a new data point to the existing training data. K-NN classifies a data point by looking at the class labels of its k-nearest neighbors in the feature space. In your project, this means it considers the similarity between emails in terms of the words or terms they contain.K-NN is a non-parametric algorithm, which means it doesn't make any assumptions about the underlying data distribution."
   ]
  },
  {
   "cell_type": "code",
   "execution_count": 9,
   "metadata": {},
   "outputs": [
    {
     "name": "stdout",
     "output_type": "stream",
     "text": [
      "K-Nearest Neighbors Classification Report:\n",
      "              precision    recall  f1-score   support\n",
      "\n",
      "           0       0.93      0.87      0.90       913\n",
      "           1       0.73      0.84      0.78       380\n",
      "\n",
      "    accuracy                           0.86      1293\n",
      "   macro avg       0.83      0.86      0.84      1293\n",
      "weighted avg       0.87      0.86      0.87      1293\n",
      "\n"
     ]
    }
   ],
   "source": [
    "# Create and train a K-Nearest Neighbors model\n",
    "knn_model = KNeighborsClassifier(n_neighbors=5)\n",
    "knn_model.fit(X_train, y_train)\n",
    "\n",
    "# Make predictions\n",
    "knn_pred = knn_model.predict(X_test)\n",
    "\n",
    "# Evaluate the K-Nearest Neighbors model\n",
    "print(\"K-Nearest Neighbors Classification Report:\")\n",
    "print(classification_report(y_test, knn_pred))"
   ]
  },
  {
   "cell_type": "markdown",
   "metadata": {},
   "source": [
    "# Decision Tree Model\n",
    "A Decision Tree model is a supervised machine learning algorithm used for both classification and regression tasks. Decision Trees are used for classification tasks when the target variable is categorical, and they can be used for spam email classification.A Decision Tree is a hierarchical tree-like structure where each internal node represents a feature or attribute, each branch represents a decision rule based on that feature, and each leaf node represents the class label or a continuous value. The tree structure is constructed based on the data, where the goal is to make decisions that best separate the data into different classes or predict a target variable."
   ]
  },
  {
   "cell_type": "code",
   "execution_count": 10,
   "metadata": {},
   "outputs": [
    {
     "name": "stdout",
     "output_type": "stream",
     "text": [
      "Decision Tree Classification Report:\n",
      "              precision    recall  f1-score   support\n",
      "\n",
      "           0       0.95      0.95      0.95       913\n",
      "           1       0.87      0.87      0.87       380\n",
      "\n",
      "    accuracy                           0.92      1293\n",
      "   macro avg       0.91      0.91      0.91      1293\n",
      "weighted avg       0.92      0.92      0.92      1293\n",
      "\n"
     ]
    }
   ],
   "source": [
    "# Create and train a Decision Tree model\n",
    "dt_model = DecisionTreeClassifier()\n",
    "dt_model.fit(X_train, y_train)\n",
    "\n",
    "# Make predictions\n",
    "dt_pred = dt_model.predict(X_test)\n",
    "\n",
    "# Evaluate the Decision Tree model\n",
    "print(\"Decision Tree Classification Report:\")\n",
    "print(classification_report(y_test, dt_pred))"
   ]
  },
  {
   "cell_type": "markdown",
   "metadata": {},
   "source": [
    "# Naive Bayes model\n",
    "The Naive Bayes algorithm is based on Bayes' theorem, which is a probabilistic theorem used for calculating conditional probabilities. In the context of classification, Naive Bayes calculates the probability of a data point belonging to a particular class given its features.Naive Bayes calculates the conditional probability of each class given the features and selects the class with the highest probability as the predicted class for a data point.\n"
   ]
  },
  {
   "cell_type": "code",
   "execution_count": 11,
   "metadata": {},
   "outputs": [
    {
     "name": "stdout",
     "output_type": "stream",
     "text": [
      "Naive Bayes Classification Report:\n",
      "              precision    recall  f1-score   support\n",
      "\n",
      "           0       0.98      0.95      0.96       913\n",
      "           1       0.88      0.96      0.92       380\n",
      "\n",
      "    accuracy                           0.95      1293\n",
      "   macro avg       0.93      0.95      0.94      1293\n",
      "weighted avg       0.95      0.95      0.95      1293\n",
      "\n"
     ]
    }
   ],
   "source": [
    "# Create and train a Naive Bayes model (Gaussian Naive Bayes)\n",
    "nb_model = GaussianNB()\n",
    "nb_model.fit(X_train, y_train)\n",
    "\n",
    "# Make predictions\n",
    "nb_pred = nb_model.predict(X_test)\n",
    "\n",
    "# Evaluate the Naive Bayes model\n",
    "print(\"Naive Bayes Classification Report:\")\n",
    "print(classification_report(y_test, nb_pred))"
   ]
  },
  {
   "cell_type": "markdown",
   "metadata": {},
   "source": [
    "# Random Forest model\n",
    "Random Forest is an ensemble learning method that combines multiple decision trees to make predictions. Each decision tree in the ensemble is trained on a random subset of the data (bootstrapped) and a random subset of the features (subset of features considered at each node).Decision trees, on their own, are prone to overfitting (capturing noise in the data) when they are deep and complex. By aggregating predictions from multiple trees, Random Forest mitigates overfitting.The ensemble nature of Random Forest often results in better generalization and improved performance over a single decision tree.Random Forest is well-suited for text classification tasks like spam detection because it can handle high-dimensional data, which is common in text data with many unique words."
   ]
  },
  {
   "cell_type": "code",
   "execution_count": 12,
   "metadata": {},
   "outputs": [
    {
     "name": "stdout",
     "output_type": "stream",
     "text": [
      "Random Forest Classification Report:\n",
      "              precision    recall  f1-score   support\n",
      "\n",
      "           0       0.99      0.98      0.98       913\n",
      "           1       0.94      0.97      0.95       380\n",
      "\n",
      "    accuracy                           0.97      1293\n",
      "   macro avg       0.96      0.97      0.97      1293\n",
      "weighted avg       0.97      0.97      0.97      1293\n",
      "\n"
     ]
    }
   ],
   "source": [
    "# Create and train a Random Forest model\n",
    "rf_model = RandomForestClassifier()\n",
    "rf_model.fit(X_train, y_train)\n",
    "\n",
    "# Make predictions\n",
    "rf_pred = rf_model.predict(X_test)\n",
    "\n",
    "# Evaluate the Random Forest model\n",
    "print(\"Random Forest Classification Report:\")\n",
    "print(classification_report(y_test, rf_pred))"
   ]
  },
  {
   "cell_type": "markdown",
   "metadata": {},
   "source": [
    "# Support Vector Machine (SVM) model\n",
    "Support Vector Machine (SVM) is a supervised machine learning model that can be used for classification tasks, and it is relevant to your project of spam email detection. SVM is particularly useful when you have a binary classification problem where you want to classify data into two categories, such as spam (positive class) and non-spam (negative class) emails.The key idea behind SVM is to find the hyperplane with the maximum margin, which is the distance between the hyperplane and the nearest data points (support vectors) from each class."
   ]
  },
  {
   "cell_type": "code",
   "execution_count": 13,
   "metadata": {},
   "outputs": [
    {
     "name": "stdout",
     "output_type": "stream",
     "text": [
      "Support Vector Machine (SVM) Classification Report:\n",
      "              precision    recall  f1-score   support\n",
      "\n",
      "           0       0.80      0.98      0.88       913\n",
      "           1       0.92      0.40      0.55       380\n",
      "\n",
      "    accuracy                           0.81      1293\n",
      "   macro avg       0.86      0.69      0.72      1293\n",
      "weighted avg       0.83      0.81      0.78      1293\n",
      "\n"
     ]
    }
   ],
   "source": [
    "# Create and train a Support Vector Machine (SVM) model\n",
    "svm_model = SVC()\n",
    "svm_model.fit(X_train, y_train)\n",
    "\n",
    "# Make predictions\n",
    "svm_pred = svm_model.predict(X_test)\n",
    "\n",
    "# Evaluate the SVM model\n",
    "print(\"Support Vector Machine (SVM) Classification Report:\")\n",
    "print(classification_report(y_test, svm_pred))"
   ]
  },
  {
   "cell_type": "code",
   "execution_count": 22,
   "metadata": {},
   "outputs": [
    {
     "name": "stdout",
     "output_type": "stream",
     "text": [
      "Accuracy of Logistic Regression: 0.9691\n",
      "Accuracy of K-Nearest Neighbors: 0.8631\n",
      "Accuracy of Decision Tree: 0.9234\n",
      "Accuracy of Naive Bayes: 0.9482\n",
      "Accuracy of Random Forest: 0.9729\n",
      "Accuracy of Support Vector Machine: 0.8121\n"
     ]
    },
    {
     "data": {
      "image/png": "[encoded data removed]",
      "text/plain": [
       "<Figure size 720x432 with 1 Axes>"
      ]
     },
     "metadata": {
      "needs_background": "light"
     },
     "output_type": "display_data"
    },
    {
     "name": "stdout",
     "output_type": "stream",
     "text": [
      "The best algorithm is: Random Forest with an accuracy of 0.97\n"
     ]
    }
   ],
   "source": [
    "# Create a dictionary to store the classifiers\n",
    "classifiers = {\n",
    "    'Logistic Regression': lr_model,\n",
    "    'K-Nearest Neighbors': knn_model,\n",
    "    'Decision Tree': dt_model,\n",
    "    'Naive Bayes': nb_model,\n",
    "    'Random Forest': rf_model,\n",
    "    'Support Vector Machine': svm_model\n",
    "}\n",
    "\n",
    "# Initialize lists to store algorithm names and their corresponding accuracies\n",
    "algorithm_names = []\n",
    "accuracies = []\n",
    "\n",
    "# Evaluate and store accuracy for each classifier\n",
    "for name, model in classifiers.items():\n",
    "    y_pred = model.predict(X_test)\n",
    "    accuracy = accuracy_score(y_test, y_pred)\n",
    "    algorithm_names.append(name)\n",
    "    accuracies.append(accuracy)\n",
    "    print(f\"Accuracy of {name}: {accuracy:.4f}\")\n",
    "\n",
    "# Plot the accuracy comparison chart\n",
    "plt.figure(figsize=(10, 6))\n",
    "plt.barh(algorithm_names, accuracies, color='skyblue')\n",
    "plt.xlabel('Accuracy')\n",
    "plt.title('Algorithm Performance Comparison')\n",
    "plt.xlim(0, 1)\n",
    "plt.gca().invert_yaxis()  # Invert y-axis to show the best algorithm on top\n",
    "plt.show()\n",
    "\n",
    "# Determine the best algorithm based on accuracy\n",
    "best_algorithm = algorithm_names[accuracies.index(max(accuracies))]\n",
    "print(f\"The best algorithm is: {best_algorithm} with an accuracy of {max(accuracies):.2f}\")"
   ]
  },
  {
   "cell_type": "code",
   "execution_count": null,
   "metadata": {},
   "outputs": [],
   "source": []
  }
 ],
 "metadata": {
  "kernelspec": {
   "display_name": "Python 3",
   "language": "python",
   "name": "python3"
  },
  "language_info": {
   "codemirror_mode": {
    "name": "ipython",
    "version": 3
   },
   "file_extension": ".py",
   "mimetype": "text/x-python",
   "name": "python",
   "nbconvert_exporter": "python",
   "pygments_lexer": "ipython3",
   "version": "3.9.2"
  }
 },
 "nbformat": 4,
 "nbformat_minor": 2
}
