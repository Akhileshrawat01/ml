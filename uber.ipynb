{
 "cells": [
  {
   "cell_type": "code",
   "execution_count": 63,
   "metadata": {},
   "outputs": [],
   "source": [
    "import pandas as pd\n",
    "\n",
    "# Load your dataset\n",
    "data = pd.read_csv('uber.csv')\n",
    "\n",
    "# Data Preprocessing\n",
    "# Handle missing data\n",
    "data.dropna(inplace=True)\n",
    "\n",
    "# Convert 'pickup_datetime' to datetime format\n",
    "data['pickup_datetime'] = pd.to_datetime(data['pickup_datetime'])\n",
    "\n",
    "# Extract features from 'pickup_datetime'\n",
    "data['pickup_dayofweek'] = data['pickup_datetime'].dt.dayofweek\n",
    "data['pickup_hour'] = data['pickup_datetime'].dt.hour\n"
   ]
  },
  {
   "cell_type": "code",
   "execution_count": 64,
   "metadata": {},
   "outputs": [
    {
     "data": {
      "text/html": [
       "<div>\n",
       "<style scoped>\n",
       "    .dataframe tbody tr th:only-of-type {\n",
       "        vertical-align: middle;\n",
       "    }\n",
       "\n",
       "    .dataframe tbody tr th {\n",
       "        vertical-align: top;\n",
       "    }\n",
       "\n",
       "    .dataframe thead th {\n",
       "        text-align: right;\n",
       "    }\n",
       "</style>\n",
       "<table border=\"1\" class=\"dataframe\">\n",
       "  <thead>\n",
       "    <tr style=\"text-align: right;\">\n",
       "      <th></th>\n",
       "      <th>Unnamed: 0</th>\n",
       "      <th>key</th>\n",
       "      <th>fare_amount</th>\n",
       "      <th>pickup_datetime</th>\n",
       "      <th>pickup_longitude</th>\n",
       "      <th>pickup_latitude</th>\n",
       "      <th>dropoff_longitude</th>\n",
       "      <th>dropoff_latitude</th>\n",
       "      <th>passenger_count</th>\n",
       "      <th>pickup_dayofweek</th>\n",
       "      <th>pickup_hour</th>\n",
       "    </tr>\n",
       "  </thead>\n",
       "  <tbody>\n",
       "    <tr>\n",
       "      <th>0</th>\n",
       "      <td>24238194</td>\n",
       "      <td>2015-05-07 19:52:06.0000003</td>\n",
       "      <td>7.5</td>\n",
       "      <td>2015-05-07 19:52:06+00:00</td>\n",
       "      <td>-73.999817</td>\n",
       "      <td>40.738354</td>\n",
       "      <td>-73.999512</td>\n",
       "      <td>40.723217</td>\n",
       "      <td>1</td>\n",
       "      <td>3</td>\n",
       "      <td>19</td>\n",
       "    </tr>\n",
       "    <tr>\n",
       "      <th>1</th>\n",
       "      <td>27835199</td>\n",
       "      <td>2009-07-17 20:04:56.0000002</td>\n",
       "      <td>7.7</td>\n",
       "      <td>2009-07-17 20:04:56+00:00</td>\n",
       "      <td>-73.994355</td>\n",
       "      <td>40.728225</td>\n",
       "      <td>-73.994710</td>\n",
       "      <td>40.750325</td>\n",
       "      <td>1</td>\n",
       "      <td>4</td>\n",
       "      <td>20</td>\n",
       "    </tr>\n",
       "    <tr>\n",
       "      <th>2</th>\n",
       "      <td>44984355</td>\n",
       "      <td>2009-08-24 21:45:00.00000061</td>\n",
       "      <td>12.9</td>\n",
       "      <td>2009-08-24 21:45:00+00:00</td>\n",
       "      <td>-74.005043</td>\n",
       "      <td>40.740770</td>\n",
       "      <td>-73.962565</td>\n",
       "      <td>40.772647</td>\n",
       "      <td>1</td>\n",
       "      <td>0</td>\n",
       "      <td>21</td>\n",
       "    </tr>\n",
       "    <tr>\n",
       "      <th>3</th>\n",
       "      <td>25894730</td>\n",
       "      <td>2009-06-26 08:22:21.0000001</td>\n",
       "      <td>5.3</td>\n",
       "      <td>2009-06-26 08:22:21+00:00</td>\n",
       "      <td>-73.976124</td>\n",
       "      <td>40.790844</td>\n",
       "      <td>-73.965316</td>\n",
       "      <td>40.803349</td>\n",
       "      <td>3</td>\n",
       "      <td>4</td>\n",
       "      <td>8</td>\n",
       "    </tr>\n",
       "    <tr>\n",
       "      <th>4</th>\n",
       "      <td>17610152</td>\n",
       "      <td>2014-08-28 17:47:00.000000188</td>\n",
       "      <td>16.0</td>\n",
       "      <td>2014-08-28 17:47:00+00:00</td>\n",
       "      <td>-73.925023</td>\n",
       "      <td>40.744085</td>\n",
       "      <td>-73.973082</td>\n",
       "      <td>40.761247</td>\n",
       "      <td>5</td>\n",
       "      <td>3</td>\n",
       "      <td>17</td>\n",
       "    </tr>\n",
       "    <tr>\n",
       "      <th>...</th>\n",
       "      <td>...</td>\n",
       "      <td>...</td>\n",
       "      <td>...</td>\n",
       "      <td>...</td>\n",
       "      <td>...</td>\n",
       "      <td>...</td>\n",
       "      <td>...</td>\n",
       "      <td>...</td>\n",
       "      <td>...</td>\n",
       "      <td>...</td>\n",
       "      <td>...</td>\n",
       "    </tr>\n",
       "    <tr>\n",
       "      <th>199995</th>\n",
       "      <td>42598914</td>\n",
       "      <td>2012-10-28 10:49:00.00000053</td>\n",
       "      <td>3.0</td>\n",
       "      <td>2012-10-28 10:49:00+00:00</td>\n",
       "      <td>-73.987042</td>\n",
       "      <td>40.739367</td>\n",
       "      <td>-73.986525</td>\n",
       "      <td>40.740297</td>\n",
       "      <td>1</td>\n",
       "      <td>6</td>\n",
       "      <td>10</td>\n",
       "    </tr>\n",
       "    <tr>\n",
       "      <th>199996</th>\n",
       "      <td>16382965</td>\n",
       "      <td>2014-03-14 01:09:00.0000008</td>\n",
       "      <td>7.5</td>\n",
       "      <td>2014-03-14 01:09:00+00:00</td>\n",
       "      <td>-73.984722</td>\n",
       "      <td>40.736837</td>\n",
       "      <td>-74.006672</td>\n",
       "      <td>40.739620</td>\n",
       "      <td>1</td>\n",
       "      <td>4</td>\n",
       "      <td>1</td>\n",
       "    </tr>\n",
       "    <tr>\n",
       "      <th>199997</th>\n",
       "      <td>27804658</td>\n",
       "      <td>2009-06-29 00:42:00.00000078</td>\n",
       "      <td>30.9</td>\n",
       "      <td>2009-06-29 00:42:00+00:00</td>\n",
       "      <td>-73.986017</td>\n",
       "      <td>40.756487</td>\n",
       "      <td>-73.858957</td>\n",
       "      <td>40.692588</td>\n",
       "      <td>2</td>\n",
       "      <td>0</td>\n",
       "      <td>0</td>\n",
       "    </tr>\n",
       "    <tr>\n",
       "      <th>199998</th>\n",
       "      <td>20259894</td>\n",
       "      <td>2015-05-20 14:56:25.0000004</td>\n",
       "      <td>14.5</td>\n",
       "      <td>2015-05-20 14:56:25+00:00</td>\n",
       "      <td>-73.997124</td>\n",
       "      <td>40.725452</td>\n",
       "      <td>-73.983215</td>\n",
       "      <td>40.695415</td>\n",
       "      <td>1</td>\n",
       "      <td>2</td>\n",
       "      <td>14</td>\n",
       "    </tr>\n",
       "    <tr>\n",
       "      <th>199999</th>\n",
       "      <td>11951496</td>\n",
       "      <td>2010-05-15 04:08:00.00000076</td>\n",
       "      <td>14.1</td>\n",
       "      <td>2010-05-15 04:08:00+00:00</td>\n",
       "      <td>-73.984395</td>\n",
       "      <td>40.720077</td>\n",
       "      <td>-73.985508</td>\n",
       "      <td>40.768793</td>\n",
       "      <td>1</td>\n",
       "      <td>5</td>\n",
       "      <td>4</td>\n",
       "    </tr>\n",
       "  </tbody>\n",
       "</table>\n",
       "<p>199999 rows × 11 columns</p>\n",
       "</div>"
      ],
      "text/plain": [
       "        Unnamed: 0                            key  fare_amount   \n",
       "0         24238194    2015-05-07 19:52:06.0000003          7.5  \\\n",
       "1         27835199    2009-07-17 20:04:56.0000002          7.7   \n",
       "2         44984355   2009-08-24 21:45:00.00000061         12.9   \n",
       "3         25894730    2009-06-26 08:22:21.0000001          5.3   \n",
       "4         17610152  2014-08-28 17:47:00.000000188         16.0   \n",
       "...            ...                            ...          ...   \n",
       "199995    42598914   2012-10-28 10:49:00.00000053          3.0   \n",
       "199996    16382965    2014-03-14 01:09:00.0000008          7.5   \n",
       "199997    27804658   2009-06-29 00:42:00.00000078         30.9   \n",
       "199998    20259894    2015-05-20 14:56:25.0000004         14.5   \n",
       "199999    11951496   2010-05-15 04:08:00.00000076         14.1   \n",
       "\n",
       "                 pickup_datetime  pickup_longitude  pickup_latitude   \n",
       "0      2015-05-07 19:52:06+00:00        -73.999817        40.738354  \\\n",
       "1      2009-07-17 20:04:56+00:00        -73.994355        40.728225   \n",
       "2      2009-08-24 21:45:00+00:00        -74.005043        40.740770   \n",
       "3      2009-06-26 08:22:21+00:00        -73.976124        40.790844   \n",
       "4      2014-08-28 17:47:00+00:00        -73.925023        40.744085   \n",
       "...                          ...               ...              ...   \n",
       "199995 2012-10-28 10:49:00+00:00        -73.987042        40.739367   \n",
       "199996 2014-03-14 01:09:00+00:00        -73.984722        40.736837   \n",
       "199997 2009-06-29 00:42:00+00:00        -73.986017        40.756487   \n",
       "199998 2015-05-20 14:56:25+00:00        -73.997124        40.725452   \n",
       "199999 2010-05-15 04:08:00+00:00        -73.984395        40.720077   \n",
       "\n",
       "        dropoff_longitude  dropoff_latitude  passenger_count   \n",
       "0              -73.999512         40.723217                1  \\\n",
       "1              -73.994710         40.750325                1   \n",
       "2              -73.962565         40.772647                1   \n",
       "3              -73.965316         40.803349                3   \n",
       "4              -73.973082         40.761247                5   \n",
       "...                   ...               ...              ...   \n",
       "199995         -73.986525         40.740297                1   \n",
       "199996         -74.006672         40.739620                1   \n",
       "199997         -73.858957         40.692588                2   \n",
       "199998         -73.983215         40.695415                1   \n",
       "199999         -73.985508         40.768793                1   \n",
       "\n",
       "        pickup_dayofweek  pickup_hour  \n",
       "0                      3           19  \n",
       "1                      4           20  \n",
       "2                      0           21  \n",
       "3                      4            8  \n",
       "4                      3           17  \n",
       "...                  ...          ...  \n",
       "199995                 6           10  \n",
       "199996                 4            1  \n",
       "199997                 0            0  \n",
       "199998                 2           14  \n",
       "199999                 5            4  \n",
       "\n",
       "[199999 rows x 11 columns]"
      ]
     },
     "execution_count": 64,
     "metadata": {},
     "output_type": "execute_result"
    }
   ],
   "source": [
    "df=data.copy()\n",
    "df"
   ]
  },
  {
   "cell_type": "code",
   "execution_count": 65,
   "metadata": {},
   "outputs": [
    {
     "name": "stdout",
     "output_type": "stream",
     "text": [
      "<class 'pandas.core.frame.DataFrame'>\n",
      "Index: 199999 entries, 0 to 199999\n",
      "Data columns (total 11 columns):\n",
      " #   Column             Non-Null Count   Dtype              \n",
      "---  ------             --------------   -----              \n",
      " 0   Unnamed: 0         199999 non-null  int64              \n",
      " 1   key                199999 non-null  object             \n",
      " 2   fare_amount        199999 non-null  float64            \n",
      " 3   pickup_datetime    199999 non-null  datetime64[ns, UTC]\n",
      " 4   pickup_longitude   199999 non-null  float64            \n",
      " 5   pickup_latitude    199999 non-null  float64            \n",
      " 6   dropoff_longitude  199999 non-null  float64            \n",
      " 7   dropoff_latitude   199999 non-null  float64            \n",
      " 8   passenger_count    199999 non-null  int64              \n",
      " 9   pickup_dayofweek   199999 non-null  int32              \n",
      " 10  pickup_hour        199999 non-null  int32              \n",
      "dtypes: datetime64[ns, UTC](1), float64(5), int32(2), int64(2), object(1)\n",
      "memory usage: 16.8+ MB\n"
     ]
    }
   ],
   "source": [
    "df.info()"
   ]
  },
  {
   "cell_type": "code",
   "execution_count": 66,
   "metadata": {},
   "outputs": [
    {
     "data": {
      "text/html": [
       "<div>\n",
       "<style scoped>\n",
       "    .dataframe tbody tr th:only-of-type {\n",
       "        vertical-align: middle;\n",
       "    }\n",
       "\n",
       "    .dataframe tbody tr th {\n",
       "        vertical-align: top;\n",
       "    }\n",
       "\n",
       "    .dataframe thead th {\n",
       "        text-align: right;\n",
       "    }\n",
       "</style>\n",
       "<table border=\"1\" class=\"dataframe\">\n",
       "  <thead>\n",
       "    <tr style=\"text-align: right;\">\n",
       "      <th></th>\n",
       "      <th>Unnamed: 0</th>\n",
       "      <th>fare_amount</th>\n",
       "      <th>pickup_longitude</th>\n",
       "      <th>pickup_latitude</th>\n",
       "      <th>dropoff_longitude</th>\n",
       "      <th>dropoff_latitude</th>\n",
       "      <th>passenger_count</th>\n",
       "      <th>pickup_dayofweek</th>\n",
       "      <th>pickup_hour</th>\n",
       "    </tr>\n",
       "  </thead>\n",
       "  <tbody>\n",
       "    <tr>\n",
       "      <th>count</th>\n",
       "      <td>1.999990e+05</td>\n",
       "      <td>199999.000000</td>\n",
       "      <td>199999.000000</td>\n",
       "      <td>199999.000000</td>\n",
       "      <td>199999.000000</td>\n",
       "      <td>199999.000000</td>\n",
       "      <td>199999.000000</td>\n",
       "      <td>199999.000000</td>\n",
       "      <td>199999.000000</td>\n",
       "    </tr>\n",
       "    <tr>\n",
       "      <th>mean</th>\n",
       "      <td>2.771248e+07</td>\n",
       "      <td>11.359892</td>\n",
       "      <td>-72.527631</td>\n",
       "      <td>39.935881</td>\n",
       "      <td>-72.525292</td>\n",
       "      <td>39.923890</td>\n",
       "      <td>1.684543</td>\n",
       "      <td>3.048435</td>\n",
       "      <td>13.491387</td>\n",
       "    </tr>\n",
       "    <tr>\n",
       "      <th>std</th>\n",
       "      <td>1.601386e+07</td>\n",
       "      <td>9.901760</td>\n",
       "      <td>11.437815</td>\n",
       "      <td>7.720558</td>\n",
       "      <td>13.117408</td>\n",
       "      <td>6.794829</td>\n",
       "      <td>1.385995</td>\n",
       "      <td>1.946946</td>\n",
       "      <td>6.515505</td>\n",
       "    </tr>\n",
       "    <tr>\n",
       "      <th>min</th>\n",
       "      <td>1.000000e+00</td>\n",
       "      <td>-52.000000</td>\n",
       "      <td>-1340.648410</td>\n",
       "      <td>-74.015515</td>\n",
       "      <td>-3356.666300</td>\n",
       "      <td>-881.985513</td>\n",
       "      <td>0.000000</td>\n",
       "      <td>0.000000</td>\n",
       "      <td>0.000000</td>\n",
       "    </tr>\n",
       "    <tr>\n",
       "      <th>25%</th>\n",
       "      <td>1.382534e+07</td>\n",
       "      <td>6.000000</td>\n",
       "      <td>-73.992065</td>\n",
       "      <td>40.734796</td>\n",
       "      <td>-73.991407</td>\n",
       "      <td>40.733823</td>\n",
       "      <td>1.000000</td>\n",
       "      <td>1.000000</td>\n",
       "      <td>9.000000</td>\n",
       "    </tr>\n",
       "    <tr>\n",
       "      <th>50%</th>\n",
       "      <td>2.774524e+07</td>\n",
       "      <td>8.500000</td>\n",
       "      <td>-73.981823</td>\n",
       "      <td>40.752592</td>\n",
       "      <td>-73.980093</td>\n",
       "      <td>40.753042</td>\n",
       "      <td>1.000000</td>\n",
       "      <td>3.000000</td>\n",
       "      <td>14.000000</td>\n",
       "    </tr>\n",
       "    <tr>\n",
       "      <th>75%</th>\n",
       "      <td>4.155535e+07</td>\n",
       "      <td>12.500000</td>\n",
       "      <td>-73.967154</td>\n",
       "      <td>40.767158</td>\n",
       "      <td>-73.963658</td>\n",
       "      <td>40.768001</td>\n",
       "      <td>2.000000</td>\n",
       "      <td>5.000000</td>\n",
       "      <td>19.000000</td>\n",
       "    </tr>\n",
       "    <tr>\n",
       "      <th>max</th>\n",
       "      <td>5.542357e+07</td>\n",
       "      <td>499.000000</td>\n",
       "      <td>57.418457</td>\n",
       "      <td>1644.421482</td>\n",
       "      <td>1153.572603</td>\n",
       "      <td>872.697628</td>\n",
       "      <td>208.000000</td>\n",
       "      <td>6.000000</td>\n",
       "      <td>23.000000</td>\n",
       "    </tr>\n",
       "  </tbody>\n",
       "</table>\n",
       "</div>"
      ],
      "text/plain": [
       "         Unnamed: 0    fare_amount  pickup_longitude  pickup_latitude   \n",
       "count  1.999990e+05  199999.000000     199999.000000    199999.000000  \\\n",
       "mean   2.771248e+07      11.359892        -72.527631        39.935881   \n",
       "std    1.601386e+07       9.901760         11.437815         7.720558   \n",
       "min    1.000000e+00     -52.000000      -1340.648410       -74.015515   \n",
       "25%    1.382534e+07       6.000000        -73.992065        40.734796   \n",
       "50%    2.774524e+07       8.500000        -73.981823        40.752592   \n",
       "75%    4.155535e+07      12.500000        -73.967154        40.767158   \n",
       "max    5.542357e+07     499.000000         57.418457      1644.421482   \n",
       "\n",
       "       dropoff_longitude  dropoff_latitude  passenger_count  pickup_dayofweek   \n",
       "count      199999.000000     199999.000000    199999.000000     199999.000000  \\\n",
       "mean          -72.525292         39.923890         1.684543          3.048435   \n",
       "std            13.117408          6.794829         1.385995          1.946946   \n",
       "min         -3356.666300       -881.985513         0.000000          0.000000   \n",
       "25%           -73.991407         40.733823         1.000000          1.000000   \n",
       "50%           -73.980093         40.753042         1.000000          3.000000   \n",
       "75%           -73.963658         40.768001         2.000000          5.000000   \n",
       "max          1153.572603        872.697628       208.000000          6.000000   \n",
       "\n",
       "         pickup_hour  \n",
       "count  199999.000000  \n",
       "mean       13.491387  \n",
       "std         6.515505  \n",
       "min         0.000000  \n",
       "25%         9.000000  \n",
       "50%        14.000000  \n",
       "75%        19.000000  \n",
       "max        23.000000  "
      ]
     },
     "execution_count": 66,
     "metadata": {},
     "output_type": "execute_result"
    }
   ],
   "source": [
    "df.describe()"
   ]
  },
  {
   "cell_type": "code",
   "execution_count": 67,
   "metadata": {},
   "outputs": [
    {
     "data": {
      "text/plain": [
       "Unnamed: 0           0\n",
       "key                  0\n",
       "fare_amount          0\n",
       "pickup_datetime      0\n",
       "pickup_longitude     0\n",
       "pickup_latitude      0\n",
       "dropoff_longitude    0\n",
       "dropoff_latitude     0\n",
       "passenger_count      0\n",
       "pickup_dayofweek     0\n",
       "pickup_hour          0\n",
       "dtype: int64"
      ]
     },
     "execution_count": 67,
     "metadata": {},
     "output_type": "execute_result"
    }
   ],
   "source": [
    "df.isnull().sum()"
   ]
  },
  {
   "cell_type": "code",
   "execution_count": 68,
   "metadata": {},
   "outputs": [
    {
     "name": "stdout",
     "output_type": "stream",
     "text": [
      "fare_amount          1.000000\n",
      "pickup_longitude     0.010458\n",
      "passenger_count      0.010158\n",
      "dropoff_longitude    0.008986\n",
      "pickup_dayofweek     0.007508\n",
      "Unnamed: 0           0.000587\n",
      "pickup_latitude     -0.008482\n",
      "dropoff_latitude    -0.011014\n",
      "pickup_hour         -0.021463\n",
      "Name: fare_amount, dtype: float64\n"
     ]
    }
   ],
   "source": [
    "# Exclude non-numeric columns from the correlation analysis\n",
    "numerical_data = data.select_dtypes(include=['number'])\n",
    "\n",
    "# Calculate the correlation matrix\n",
    "correlation_matrix = numerical_data.corr()\n",
    "\n",
    "# Display the correlation of 'fare_amount' with other numerical columns\n",
    "print(correlation_matrix['fare_amount'].sort_values(ascending=False))\n",
    "\n"
   ]
  },
  {
   "cell_type": "code",
   "execution_count": 69,
   "metadata": {},
   "outputs": [],
   "source": [
    "q_low = df[\"fare_amount\"].quantile(0.01)\n",
    "q_high = df[\"fare_amount\"].quantile(0.99)\n",
    "\n",
    "df = df[(df[\"fare_amount\"] > q_low) & (df[\"fare_amount\"] < q_high)]"
   ]
  },
  {
   "cell_type": "code",
   "execution_count": 70,
   "metadata": {},
   "outputs": [
    {
     "data": {
      "text/plain": [
       "Unnamed: 0           0\n",
       "key                  0\n",
       "fare_amount          0\n",
       "pickup_datetime      0\n",
       "pickup_longitude     0\n",
       "pickup_latitude      0\n",
       "dropoff_longitude    0\n",
       "dropoff_latitude     0\n",
       "passenger_count      0\n",
       "pickup_dayofweek     0\n",
       "pickup_hour          0\n",
       "dtype: int64"
      ]
     },
     "execution_count": 70,
     "metadata": {},
     "output_type": "execute_result"
    }
   ],
   "source": [
    "df.isnull().sum()"
   ]
  },
  {
   "cell_type": "code",
   "execution_count": 71,
   "metadata": {},
   "outputs": [],
   "source": [
    "from sklearn.model_selection import train_test_split\n",
    "from sklearn.linear_model import LinearRegression, Lasso, Ridge, ElasticNet, BayesianRidge\n",
    "from sklearn.cross_decomposition import PLSRegression\n",
    "from sklearn.ensemble import RandomForestRegressor\n",
    "from sklearn.preprocessing import PolynomialFeatures\n",
    "from sklearn.metrics import r2_score, mean_squared_error\n",
    "from sklearn.decomposition import PCA\n",
    "import statsmodels.api as sm\n",
    "import matplotlib.pyplot as plt\n",
    "import numpy as np\n",
    "\n",
    "# Define features and target variable\n",
    "X = data[['pickup_longitude', 'pickup_latitude', 'dropoff_longitude', 'dropoff_latitude', 'passenger_count', 'pickup_dayofweek', 'pickup_hour']]\n",
    "y = data['fare_amount']\n",
    "\n",
    "# Split the data into training and testing sets\n",
    "X_train, X_test, y_train, y_test = train_test_split(X, y, test_size=0.2, random_state=42)"
   ]
  },
  {
   "cell_type": "markdown",
   "metadata": {},
   "source": [
    "# Linear Regression\n",
    "Linear regression is a type of supervised machine learning algorithm that computes the linear relationship between a dependent variable and one or more independent features. When the number of the independent feature, is 1 then it is known as Univariate Linear regression, and in the case of more than one feature, it is known as multivariate linear regression. \n",
    "\n",
    "The goal of the algorithm is to find the best linear equation that can predict the value of the dependent variable based on the independent variables. The equation provides a straight line that represents the relationship between the dependent and independent variables. \n",
    "\n",
    "The slope of the line indicates how much the dependent variable changes for a unit change in the independent variable(s)."
   ]
  },
  {
   "cell_type": "code",
   "execution_count": 72,
   "metadata": {},
   "outputs": [],
   "source": [
    "# Linear Regression\n",
    "linear_reg = LinearRegression()\n",
    "linear_reg.fit(X_train, y_train)\n",
    "linear_reg_pred = linear_reg.predict(X_test)"
   ]
  },
  {
   "cell_type": "markdown",
   "metadata": {},
   "source": [
    " # Logistic Regression\n",
    " Logistic Regression is designed for binary classification problems, where the target variable is categorical and represents a binary outcome, such as yes/no, 1/0, or true/false. In contrast, the target variable in your problem is 'fare_amount,' which is a continuous numerical value. Logistic Regression is not designed to predict continuous values."
   ]
  },
  {
   "cell_type": "markdown",
   "metadata": {},
   "source": [
    "# Lasso Regression\n",
    "Lasso Regression (L1 regularization) is a type of linear regression that adds a penalty term to the linear regression cost function to prevent overfitting and encourage feature selection. Lasso Regression automatically performs feature selection by encouraging some feature coefficients to be exactly zero. This is particularly useful when you have a dataset with many predictor variables, and you want to identify the most important features that contribute to predicting the fare amount. It can help you simplify your model by keeping only the most relevant features.Lasso adds an L1 penalty term to the linear regression cost function. This penalty term discourages large coefficients for features, which, in turn, reduces the complexity of the model. "
   ]
  },
  {
   "cell_type": "code",
   "execution_count": 73,
   "metadata": {},
   "outputs": [],
   "source": [
    "# Lasso Regression\n",
    "lasso_reg = Lasso(alpha=1.0)\n",
    "lasso_reg.fit(X_train, y_train)\n",
    "lasso_reg_pred = lasso_reg.predict(X_test)\n"
   ]
  },
  {
   "cell_type": "markdown",
   "metadata": {},
   "source": [
    "# Ridge Regression\n",
    "Ridge Regression (L2 regularization) is another type of linear regression that addresses the issue of overfitting by adding a penalty term to the linear regression cost function. Overfitting Mitigation: Ridge Regression is effective in mitigating overfitting, which can occur when the model is too complex and fits the training data too closely. By adding an L2 penalty term to the linear regression cost function, Ridge Regression discourages large coefficients for features, which helps in making the model more robust and preventing overfitting.\n",
    "### Difference in Lasso and Ridge\n",
    "Lasso and Ridge Regression offer different approaches to regularization in linear regression models. Lasso is suitable when you suspect feature selection is necessary or when you want to simplify the model. Ridge is relevant when multicollinearity and overfitting are concerns."
   ]
  },
  {
   "cell_type": "code",
   "execution_count": 74,
   "metadata": {},
   "outputs": [],
   "source": [
    "# Ridge Regression\n",
    "ridge_reg = Ridge(alpha=1.0)\n",
    "ridge_reg.fit(X_train, y_train)\n",
    "ridge_reg_pred = ridge_reg.predict(X_test)"
   ]
  },
  {
   "cell_type": "markdown",
   "metadata": {},
   "source": [
    "# Polynomial Regression\n",
    "Polynomial Regression is a type of regression analysis that models the relationship between the independent variable (predictor variable) and the dependent variable (target variable) as an nth-degree polynomial. Polynomial Regression can be a valuable tool when you suspect non-linear relationships between predictor variables and the fare amount. It allows the model to capture and account for such non-linear patterns, which may lead to more accurate predictions. However, it's important to be cautious with the degree of the polynomial to avoid overfitting."
   ]
  },
  {
   "cell_type": "code",
   "execution_count": 75,
   "metadata": {},
   "outputs": [],
   "source": [
    "# Polynomial Regression\n",
    "poly = PolynomialFeatures(degree=2)\n",
    "X_poly = poly.fit_transform(X)\n",
    "poly_reg = LinearRegression()\n",
    "poly_reg.fit(X_poly, y)\n",
    "poly_reg_pred = poly_reg.predict(poly.fit_transform(X_test))"
   ]
  },
  {
   "cell_type": "markdown",
   "metadata": {},
   "source": [
    "# Bayesian Linear Regression\n",
    "Bayesian Linear Regression is a variation of linear regression that incorporates Bayesian principles to provide a probabilistic approach to modeling and making predictions.\n",
    "Bayesian Linear Regression can provide a probabilistic framework for predicting Uber ride fares. It allows you to not only estimate fare amounts but also assess the uncertainty associated with those predictions. This can be particularly useful in scenarios where there is inherent variability in fares or when you want to account for uncertainty in your model."
   ]
  },
  {
   "cell_type": "code",
   "execution_count": 76,
   "metadata": {},
   "outputs": [],
   "source": [
    "# Bayesian Linear Regression\n",
    "bayesian_reg = BayesianRidge()\n",
    "bayesian_reg.fit(X_train, y_train)\n",
    "y_pred_bayesian = bayesian_reg.predict(X_test)"
   ]
  },
  {
   "cell_type": "markdown",
   "metadata": {},
   "source": [
    "# Principal Components Regression (PCR)\n",
    "Principal Components Regression (PCR) is a regression technique that combines Principal Component Analysis (PCA) with linear regression.In datasets with multiple predictor variables, there can be high correlation (multicollinearity) between some of the features. Multicollinearity can make it difficult for linear regression to accurately estimate the coefficients of individual predictors. PCR can be useful if your dataset includes a large number of predictor variables or if there is multicollinearity among these variables. By applying PCR, you can reduce the dimensionality of the dataset, capture non-linear patterns, and potentially improve the model's ability to make accurate fare predictions."
   ]
  },
  {
   "cell_type": "code",
   "execution_count": 77,
   "metadata": {},
   "outputs": [],
   "source": [
    "# Principal Components Regression (PCR)\n",
    "pca = PCA(n_components=5)  # Adjust the number of components\n",
    "X_train_pca = pca.fit_transform(X_train)\n",
    "X_test_pca = pca.transform(X_test)\n",
    "pcr_reg = LinearRegression()\n",
    "pcr_reg.fit(X_train_pca, y_train)\n",
    "y_pred_pcr = pcr_reg.predict(X_test_pca)"
   ]
  },
  {
   "cell_type": "markdown",
   "metadata": {},
   "source": [
    "# Quartile Regression\n",
    "Quartile Regression is a statistical technique used to model and analyze the conditional relationship between a dependent variable and one or more independent variables. It's similar to linear regression but focuses on modeling the conditional quantiles of the dependent variable, rather than the conditional mean as in traditional linear regression. Quartile Regression allows you to model and understand how different quantiles (e.g., the 25th percentile, 50th percentile, and 75th percentile) of the fare amount change with respect to the predictor variables. This is valuable when you want to explore how fares vary across different conditions and account for potential outliers."
   ]
  },
  {
   "cell_type": "code",
   "execution_count": 78,
   "metadata": {},
   "outputs": [],
   "source": [
    "# Quartile Regression (Statsmodels)\n",
    "quantiles = [0.25, 0.5, 0.75]\n",
    "results = []\n",
    "for quantile in quantiles:\n",
    "    model = sm.QuantReg(y_train, X_train).fit(q=quantile)\n",
    "    y_pred_qr = model.predict(X_test)\n",
    "    results.append(y_pred_qr)"
   ]
  },
  {
   "cell_type": "markdown",
   "metadata": {},
   "source": [
    "# Random Forest Regression\n",
    "Random Forest Regression is a machine learning technique that extends the concept of decision trees to perform regression tasks.Random Forest Regression can effectively capture non-linear relationships between predictor variables and fare amounts. Random Forests are capable of modeling complex interactions between predictor variables. They can capture how various factors, such as pickup location, drop-off location, and passenger count, interact to influence the fare amount.Random Forest Regression consists of an ensemble of decision trees. Each decision tree is constructed by selecting a random subset of the data and a random subset of the features. This randomness helps to diversify the trees and reduce overfitting.To make a prediction, each decision tree in the forest produces its own prediction. The final prediction is typically the average (for regression) or the mode (for classification) of the predictions from individual trees.n_estimators: This hyperparameter determines the number of decision trees to be included in the random forest ensemble.random_state: The random_state parameter is used to seed the random number generator that initializes and controls the randomness in the model. When you specify a value for random_state, you ensure that the model's randomness is reproducible."
   ]
  },
  {
   "cell_type": "code",
   "execution_count": 79,
   "metadata": {},
   "outputs": [],
   "source": [
    "# Random Forest Regression\n",
    "rf_reg = RandomForestRegressor(n_estimators=100, random_state=42)\n",
    "rf_reg.fit(X_train, y_train)\n",
    "rf_reg_pred = rf_reg.predict(X_test)"
   ]
  },
  {
   "cell_type": "markdown",
   "metadata": {},
   "source": [
    "# Partial Least Squares Regression (PLSR)\n",
    "Partial Least Squares Regression (PLSR) is a dimensionality reduction technique and regression method that combines elements of principal component analysis (PCA) and linear regression. PLSR effectively reduces multicollinearity by transforming the original variables into a smaller set of orthogonal (uncorrelated) components.PLSR identifies a linear combination of the original predictor variables that is most predictive of the target variable (fare amount). This means PLSR performs both feature selection and regression simultaneously.\n",
    "### Difference in PCR and PLSR\n",
    "PCR primarily focuses on dimensionality reduction and doesn't explicitly model the relationship with the response variable. It simplifies the predictor space but may not capture complex relationships effectively.\n",
    "PLSR jointly considers the response and predictor variables, focusing on capturing their covariance structure. It is a more predictive technique and is particularly useful when you want to model the response variable's relationship with the predictors."
   ]
  },
  {
   "cell_type": "code",
   "execution_count": 80,
   "metadata": {},
   "outputs": [],
   "source": [
    "# Partial Least Squares Regression (PLSR)\n",
    "pls = PLSRegression(n_components=5)  # Adjust the number of components\n",
    "pls.fit(X_train, y_train)\n",
    "y_pred_pls = pls.predict(X_test)"
   ]
  },
  {
   "cell_type": "markdown",
   "metadata": {},
   "source": [
    "# Elastic Net Regression\n",
    "Elastic Net Regression is a regularization technique that combines the L1 (Lasso) and L2 (Ridge) regularization penalties with linear regression.Elastic Net allows for automatic feature selection by shrinking the coefficients of less important predictor variables to exactly zero (similar to Lasso).Like Ridge Regression, Elastic Net can mitigate the effects of multicollinearity among predictor variables. It achieves this by applying L2 regularization, which encourages coefficients to be large but not exactly zero."
   ]
  },
  {
   "cell_type": "code",
   "execution_count": 81,
   "metadata": {},
   "outputs": [],
   "source": [
    "# Elastic Net Regression\n",
    "elastic_net = ElasticNet(alpha=1.0, l1_ratio=0.5)\n",
    "elastic_net.fit(X_train, y_train)\n",
    "elastic_net_pred = elastic_net.predict(X_test)"
   ]
  },
  {
   "cell_type": "markdown",
   "metadata": {},
   "source": [
    "# Poisson Regression (Statsmodels)\n",
    "Poisson Regression is a statistical regression technique used for modeling count data or events that occur over a fixed interval of time or space. Poisson Regression is often used to model rates or frequencies of events, making it valuable when you want to predict or explain patterns related to the frequency of Uber rides under different conditions  Poisson Regression models the relationship between predictor variables and the rate parameter of a Poisson distribution."
   ]
  },
  {
   "cell_type": "code",
   "execution_count": 82,
   "metadata": {},
   "outputs": [],
   "source": [
    "# Poisson Regression (Statsmodels)\n",
    "poisson_model = sm.GLM(y_train, X_train, family=sm.families.Poisson()).fit()\n",
    "y_pred_poisson = poisson_model.predict(X_test)"
   ]
  },
  {
   "cell_type": "code",
   "execution_count": 83,
   "metadata": {},
   "outputs": [],
   "source": [
    "# Evaluate the models\n",
    "model_names = [\n",
    "    \"Elastic Net Regression\",\"Linear Regression\", \"Lasso Regression\", \"Ridge Regression\", \"Bayesian Linear Regression\",\n",
    "    \"Polynomial Regression\", \"Random Forest Regression\", \"Principal Components Regression\",\n",
    "    \"Quartile Regression (25%)\", \"Quartile Regression (50%)\", \"Quartile Regression (75%)\",\n",
    "    \"Partial Least Squares Regression\", \"Poisson Regression\"\n",
    "]"
   ]
  },
  {
   "cell_type": "code",
   "execution_count": 84,
   "metadata": {},
   "outputs": [],
   "source": [
    "predictions = [\n",
    "    elastic_net_pred,linear_reg_pred, lasso_reg_pred, ridge_reg_pred, y_pred_bayesian,\n",
    "    poly_reg_pred, rf_reg_pred, y_pred_pcr,\n",
    "    results[0], results[1], results[2],\n",
    "    y_pred_pls, y_pred_poisson\n",
    "]"
   ]
  },
  {
   "cell_type": "code",
   "execution_count": 85,
   "metadata": {},
   "outputs": [
    {
     "name": "stdout",
     "output_type": "stream",
     "text": [
      "Elastic Net Regression\n",
      "R2 Score: 0.0005179101808727715\n",
      "RMSE: 10.196570945764377\n",
      "\n",
      "\n",
      "Linear Regression\n",
      "R2 Score: 0.0009141588749875806\n",
      "RMSE: 10.19454950961345\n",
      "\n",
      "\n",
      "Lasso Regression\n",
      "R2 Score: 0.0002083665517957911\n",
      "RMSE: 10.19814978307734\n",
      "\n",
      "\n",
      "Ridge Regression\n",
      "R2 Score: 0.0009141586382306333\n",
      "RMSE: 10.19454951082137\n",
      "\n",
      "\n",
      "Bayesian Linear Regression\n",
      "R2 Score: 0.0008757052977216295\n",
      "RMSE: 10.194745695521174\n",
      "\n",
      "\n",
      "Polynomial Regression\n",
      "R2 Score: 0.002579351805853336\n",
      "RMSE: 10.186050254354962\n",
      "\n",
      "\n",
      "Random Forest Regression\n",
      "R2 Score: 0.7046228230310025\n",
      "RMSE: 5.5431305228721754\n",
      "\n",
      "\n",
      "Principal Components Regression\n",
      "R2 Score: 0.0007353008396752125\n",
      "RMSE: 10.195461991515616\n",
      "\n",
      "\n",
      "Quartile Regression (25%)\n",
      "R2 Score: -0.3013736821526336\n",
      "RMSE: 11.635033741258496\n",
      "\n",
      "\n",
      "Quartile Regression (50%)\n",
      "R2 Score: -0.11132969534685189\n",
      "RMSE: 10.751971307597316\n",
      "\n",
      "\n",
      "Quartile Regression (75%)\n",
      "R2 Score: -0.04917395755091114\n",
      "RMSE: 10.446970978545309\n",
      "\n",
      "\n",
      "Partial Least Squares Regression\n",
      "R2 Score: 0.0009089577934259241\n",
      "RMSE: 10.19457604517841\n",
      "\n",
      "\n",
      "Poisson Regression\n",
      "R2 Score: -6.497592596905992\n",
      "RMSE: 27.927210355819454\n",
      "\n",
      "\n"
     ]
    }
   ],
   "source": [
    "for model, y_pred in zip(model_names, predictions):\n",
    "    r2 = r2_score(y_test, y_pred)\n",
    "    rmse = mean_squared_error(y_test, y_pred, squared=False)\n",
    "    print(model)\n",
    "    print(\"R2 Score:\", r2)\n",
    "    print(\"RMSE:\", rmse)\n",
    "    print(\"\\n\")"
   ]
  },
  {
   "cell_type": "code",
   "execution_count": 86,
   "metadata": {},
   "outputs": [],
   "source": [
    "# def evaluate_model(model_name, y_true, y_pred):\n",
    "#     r2 = r2_score(y_true, y_pred)\n",
    "#     rmse = mean_squared_error(y_true, y_pred, squared=False)\n",
    "#     print(f\"{model_name} - R2 Score: {r2:.2f}, RMSE: {rmse:.2f}\")"
   ]
  },
  {
   "cell_type": "code",
   "execution_count": 87,
   "metadata": {},
   "outputs": [],
   "source": [
    "# evaluate_model(\"Elastic Net Regression\", y_test, elastic_net_pred)"
   ]
  },
  {
   "cell_type": "code",
   "execution_count": 88,
   "metadata": {},
   "outputs": [
    {
     "data": {
      "image/png": "[encoded data removed]",
      "text/plain": [
       "<Figure size 720x432 with 1 Axes>"
      ]
     },
     "metadata": {
      "needs_background": "light"
     },
     "output_type": "display_data"
    },
    {
     "data": {
      "image/png": "[encoded data removed]",
      "text/plain": [
       "<Figure size 720x432 with 1 Axes>"
      ]
     },
     "metadata": {
      "needs_background": "light"
     },
     "output_type": "display_data"
    }
   ],
   "source": [
    "# Initialize lists to store evaluation metric scores\n",
    "r2_scores = []\n",
    "rmse_scores = []\n",
    "\n",
    "# Evaluate each model and store the scores\n",
    "for model, y_pred in zip(model_names, predictions):\n",
    "    r2 = r2_score(y_test, y_pred)\n",
    "    rmse = mean_squared_error(y_test, y_pred, squared=False)\n",
    "    r2_scores.append(r2)\n",
    "    rmse_scores.append(rmse)\n",
    "\n",
    "# Create a bar chart to compare R-squared scores\n",
    "plt.figure(figsize=(10, 6))\n",
    "plt.barh(model_names, r2_scores, color='skyblue')\n",
    "plt.xlabel('R-squared Score')\n",
    "plt.title('Comparison of Regression Models (R-squared)')\n",
    "plt.xlim([0, 1])  # Adjust the x-axis limits\n",
    "plt.gca().invert_yaxis()  # Invert the y-axis to display the best model at the top\n",
    "plt.show()\n",
    "\n",
    "# Create a bar chart to compare RMSE scores\n",
    "plt.figure(figsize=(10, 6))\n",
    "plt.barh(model_names, rmse_scores, color='lightcoral')\n",
    "plt.xlabel('RMSE Score')\n",
    "plt.title('Comparison of Regression Models (RMSE)')\n",
    "plt.gca().invert_yaxis()\n",
    "plt.show()"
   ]
  },
  {
   "cell_type": "markdown",
   "metadata": {},
   "source": [
    "# Result\n",
    "R-squared (R2) Score measures how well the model explains the variance in the target variable (fare amount). A higher R2 score indicates a better fit to the data, with 1.0 being a perfect fit.\n",
    "\n",
    "Root Mean Squared Error (RMSE) measures the average prediction error of the model. A lower RMSE indicates better predictive accuracy, with lower values implying smaller prediction errors.\n",
    "\n",
    "Random Forest Regression stands out with an R2 score of approximately 0.705 and an RMSE of about 5.543. This suggests that the Random Forest model explains a significant portion of the variance in fare amounts and provides accurate fare predictions.\n",
    "\n",
    "Poisson Regression has a significantly negative R2 score and a high RMSE, indicating a poor fit for this task. Poisson Regression is not suitable for predicting fare amounts in this context.\n",
    "\n",
    "### Based on the provided results, Random Forest Regression is the best model for predicting Uber ride fares. It achieves the highest R2 score, indicating a good fit to the data, and the lowest RMSE, implying accurate fare predictions. The Random Forest model effectively captures the underlying patterns and variations in fare amounts."
   ]
  }
 ],
 "metadata": {
  "kernelspec": {
   "display_name": "Python 3",
   "language": "python",
   "name": "python3"
  },
  "language_info": {
   "codemirror_mode": {
    "name": "ipython",
    "version": 3
   },
   "file_extension": ".py",
   "mimetype": "text/x-python",
   "name": "python",
   "nbconvert_exporter": "python",
   "pygments_lexer": "ipython3",
   "version": "3.9.2"
  }
 },
 "nbformat": 4,
 "nbformat_minor": 2
}
